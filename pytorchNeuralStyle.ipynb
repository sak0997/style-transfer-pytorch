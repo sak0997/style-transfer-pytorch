{
  "nbformat": 4,
  "nbformat_minor": 0,
  "metadata": {
    "colab": {
      "name": "pytorchNeuralStyle.ipynb",
      "provenance": [],
      "collapsed_sections": [
        "-PAgh3T4Yc13"
      ]
    },
    "kernelspec": {
      "name": "python3",
      "display_name": "Python 3"
    }
  },
  "cells": [
    {
      "cell_type": "markdown",
      "metadata": {
        "id": "NfFLXGh93CLV"
      },
      "source": [
        "NOTE: Currently formatted in such a manner that you can just run all down to the end of the 'Our Streamlit App' section and get a successful output. Likely have to restart runtime after installing streamlit, so be aware of that. \r\n",
        "\r\n",
        "ngrok, which we use to host the app from a colab environment, can be a bit finnicky. Might have to run that a few times to get it to work, but should work. \r\n",
        "\r\n",
        "Technically this can be No-Code. Just run the code by clicking the play buttons on the left side of each cell, running the cells in order. After you do the 'Downloads' section, go to 'Runtime' in the toolbar above and click 'Restart Runtime' then go to the 'Our Streamlit App' section nd run the cells in that section (just the ones in that section!). Your app should then be hosted at the ngrok.io link shown. If google colab times out you might have to redo all of that. \r\n",
        "\r\n",
        "<b><i> REALLY blunt No-Code method: </i></b> Just go to 'Runtime' in toolbar above and click 'Run All', wait for 5 minutes then click 'Runtime' > 'Restart Runtime and run all' once. Then go to the 'Our Streamlit App' section and stop the running cell. Then keep on clicking 'Run' on the cell starting with get_ipython() an ngrok.io link succesfully pops up. Run the cell below that ngrok link and The app should be accessible at that ngrok.io link. (this is a really blunt way of doing it, no guaruntees but should work most times if you're not in the mood to run everything)\r\n",
        "\r\n",
        "App designed to work best in local Virtual Environment. Just download the entire repo at https://github.com/GeorgeDavila/PytorchNeuralStyleStreamlit, unzip it and run it locally. Although this method requires some basic coding skills and/or hardware (and memory on that hardware), hence the existence of this colab notebook. \r\n",
        "\r\n",
        "<h4> RUN the git clone cell below </h4> "
      ]
    },
    {
      "cell_type": "code",
      "metadata": {
        "id": "RQ76O7o9XUqn"
      },
      "source": [
        "!git clone https://github.com/GeorgeDavila/PytorchNeuralStyleStreamlit"
      ],
      "execution_count": null,
      "outputs": []
    },
    {
      "cell_type": "markdown",
      "metadata": {
        "id": "FtT8zgac5lyo"
      },
      "source": [
        "## Downloads "
      ]
    },
    {
      "cell_type": "code",
      "metadata": {
        "id": "w_FgVwB3iGD2"
      },
      "source": [
        "#RUN this only if having problems with libraries used. Current version of colab (Feb 24 2021) has most of the dependencies already. Ones it doesnt we  \r\n",
        "#%cd /content/PytorchNeuralStyleStreamlit\r\n",
        "#!pip install -r requirements.txt"
      ],
      "execution_count": null,
      "outputs": []
    },
    {
      "cell_type": "code",
      "metadata": {
        "colab": {
          "base_uri": "https://localhost:8080/",
          "height": 1000
        },
        "id": "D_gD6KTo5jiW",
        "outputId": "b979c715-0f47-4a58-9c1f-9fdf362db775"
      },
      "source": [
        "!pip install streamlit\r\n",
        "#!pip install pyngrok #Alternative to downloading ngrok from source \r\n",
        "\r\n",
        "#TEST using your ngrok links down below, Should produce streamlit app at the ngrok.io link produced by the previous cell Click on the link ABOVE to see web app \r\n",
        "#!streamlit hello"
      ],
      "execution_count": null,
      "outputs": [
        {
          "output_type": "stream",
          "text": [
            "Collecting streamlit\n",
            "\u001b[?25l  Downloading https://files.pythonhosted.org/packages/a4/6c/c03f12bbbd8367152897c3b3269f87b717b3e7b834b44d15aae345727375/streamlit-0.77.0-py2.py3-none-any.whl (7.5MB)\n",
            "\u001b[K     |████████████████████████████████| 7.5MB 6.4MB/s \n",
            "\u001b[?25hCollecting blinker\n",
            "\u001b[?25l  Downloading https://files.pythonhosted.org/packages/1b/51/e2a9f3b757eb802f61dc1f2b09c8c99f6eb01cf06416c0671253536517b6/blinker-1.4.tar.gz (111kB)\n",
            "\u001b[K     |████████████████████████████████| 112kB 41.4MB/s \n",
            "\u001b[?25hRequirement already satisfied: protobuf!=3.11,>=3.6.0 in /usr/local/lib/python3.7/dist-packages (from streamlit) (3.12.4)\n",
            "Collecting pydeck>=0.1.dev5\n",
            "\u001b[?25l  Downloading https://files.pythonhosted.org/packages/1c/3f/8f04ae0c22d82ec7bec7fcc03270a142f637e362bbd285f7daeeda24fbef/pydeck-0.6.1-py2.py3-none-any.whl (4.6MB)\n",
            "\u001b[K     |████████████████████████████████| 4.6MB 43.5MB/s \n",
            "\u001b[?25hRequirement already satisfied: pandas>=0.21.0 in /usr/local/lib/python3.7/dist-packages (from streamlit) (1.1.5)\n",
            "Requirement already satisfied: click>=7.0 in /usr/local/lib/python3.7/dist-packages (from streamlit) (7.1.2)\n",
            "Requirement already satisfied: astor in /usr/local/lib/python3.7/dist-packages (from streamlit) (0.8.1)\n",
            "Requirement already satisfied: requests in /usr/local/lib/python3.7/dist-packages (from streamlit) (2.23.0)\n",
            "Requirement already satisfied: tornado>=5.0 in /usr/local/lib/python3.7/dist-packages (from streamlit) (5.1.1)\n",
            "Collecting validators\n",
            "  Downloading https://files.pythonhosted.org/packages/db/2f/7fed3ee94ad665ad2c1de87f858f10a7785251ff75b4fd47987888d07ef1/validators-0.18.2-py3-none-any.whl\n",
            "Requirement already satisfied: tzlocal in /usr/local/lib/python3.7/dist-packages (from streamlit) (1.5.1)\n",
            "Requirement already satisfied: packaging in /usr/local/lib/python3.7/dist-packages (from streamlit) (20.9)\n",
            "Requirement already satisfied: toml in /usr/local/lib/python3.7/dist-packages (from streamlit) (0.10.2)\n",
            "Collecting watchdog; platform_system != \"Darwin\"\n",
            "\u001b[?25l  Downloading https://files.pythonhosted.org/packages/c6/ba/a36ca5b4e75649a002f06531862467b3eb5c768caa23d6d88b921fe238d8/watchdog-2.0.2-py3-none-manylinux2014_x86_64.whl (74kB)\n",
            "\u001b[K     |████████████████████████████████| 81kB 7.9MB/s \n",
            "\u001b[?25hRequirement already satisfied: cachetools>=4.0 in /usr/local/lib/python3.7/dist-packages (from streamlit) (4.2.1)\n",
            "Requirement already satisfied: python-dateutil in /usr/local/lib/python3.7/dist-packages (from streamlit) (2.8.1)\n",
            "Requirement already satisfied: pillow>=6.2.0 in /usr/local/lib/python3.7/dist-packages (from streamlit) (7.0.0)\n",
            "Collecting gitpython\n",
            "\u001b[?25l  Downloading https://files.pythonhosted.org/packages/fb/67/47a04d8a9d7f94645676fe683f1ee3fe9be01fe407686c180768a92abaac/GitPython-3.1.13-py3-none-any.whl (159kB)\n",
            "\u001b[K     |████████████████████████████████| 163kB 31.1MB/s \n",
            "\u001b[?25hCollecting base58\n",
            "  Downloading https://files.pythonhosted.org/packages/b8/a1/d9f565e9910c09fd325dc638765e8843a19fa696275c16cc08cf3b0a3c25/base58-2.1.0-py3-none-any.whl\n",
            "Requirement already satisfied: altair>=3.2.0 in /usr/local/lib/python3.7/dist-packages (from streamlit) (4.1.0)\n",
            "Requirement already satisfied: numpy in /usr/local/lib/python3.7/dist-packages (from streamlit) (1.19.5)\n",
            "Requirement already satisfied: pyarrow; python_version < \"3.9\" in /usr/local/lib/python3.7/dist-packages (from streamlit) (0.14.1)\n",
            "Requirement already satisfied: setuptools in /usr/local/lib/python3.7/dist-packages (from protobuf!=3.11,>=3.6.0->streamlit) (53.0.0)\n",
            "Requirement already satisfied: six>=1.9 in /usr/local/lib/python3.7/dist-packages (from protobuf!=3.11,>=3.6.0->streamlit) (1.15.0)\n",
            "Collecting ipykernel>=5.1.2; python_version >= \"3.4\"\n",
            "\u001b[?25l  Downloading https://files.pythonhosted.org/packages/56/95/3a670c8b2c2370bd8631c313f42e60983b3113ffec4035940592252bd6d5/ipykernel-5.5.0-py3-none-any.whl (120kB)\n",
            "\u001b[K     |████████████████████████████████| 122kB 44.6MB/s \n",
            "\u001b[?25hRequirement already satisfied: traitlets>=4.3.2 in /usr/local/lib/python3.7/dist-packages (from pydeck>=0.1.dev5->streamlit) (4.3.3)\n",
            "Requirement already satisfied: ipywidgets>=7.0.0 in /usr/local/lib/python3.7/dist-packages (from pydeck>=0.1.dev5->streamlit) (7.6.3)\n",
            "Requirement already satisfied: jinja2>=2.10.1 in /usr/local/lib/python3.7/dist-packages (from pydeck>=0.1.dev5->streamlit) (2.11.3)\n",
            "Requirement already satisfied: pytz>=2017.2 in /usr/local/lib/python3.7/dist-packages (from pandas>=0.21.0->streamlit) (2018.9)\n",
            "Requirement already satisfied: certifi>=2017.4.17 in /usr/local/lib/python3.7/dist-packages (from requests->streamlit) (2020.12.5)\n",
            "Requirement already satisfied: idna<3,>=2.5 in /usr/local/lib/python3.7/dist-packages (from requests->streamlit) (2.10)\n",
            "Requirement already satisfied: urllib3!=1.25.0,!=1.25.1,<1.26,>=1.21.1 in /usr/local/lib/python3.7/dist-packages (from requests->streamlit) (1.24.3)\n",
            "Requirement already satisfied: chardet<4,>=3.0.2 in /usr/local/lib/python3.7/dist-packages (from requests->streamlit) (3.0.4)\n",
            "Requirement already satisfied: decorator>=3.4.0 in /usr/local/lib/python3.7/dist-packages (from validators->streamlit) (4.4.2)\n",
            "Requirement already satisfied: pyparsing>=2.0.2 in /usr/local/lib/python3.7/dist-packages (from packaging->streamlit) (2.4.7)\n",
            "Collecting gitdb<5,>=4.0.1\n",
            "\u001b[?25l  Downloading https://files.pythonhosted.org/packages/48/11/d1800bca0a3bae820b84b7d813ad1eff15a48a64caea9c823fc8c1b119e8/gitdb-4.0.5-py3-none-any.whl (63kB)\n",
            "\u001b[K     |████████████████████████████████| 71kB 8.2MB/s \n",
            "\u001b[?25hRequirement already satisfied: entrypoints in /usr/local/lib/python3.7/dist-packages (from altair>=3.2.0->streamlit) (0.3)\n",
            "Requirement already satisfied: toolz in /usr/local/lib/python3.7/dist-packages (from altair>=3.2.0->streamlit) (0.11.1)\n",
            "Requirement already satisfied: jsonschema in /usr/local/lib/python3.7/dist-packages (from altair>=3.2.0->streamlit) (2.6.0)\n",
            "Requirement already satisfied: jupyter-client in /usr/local/lib/python3.7/dist-packages (from ipykernel>=5.1.2; python_version >= \"3.4\"->pydeck>=0.1.dev5->streamlit) (5.3.5)\n",
            "Requirement already satisfied: ipython>=5.0.0 in /usr/local/lib/python3.7/dist-packages (from ipykernel>=5.1.2; python_version >= \"3.4\"->pydeck>=0.1.dev5->streamlit) (5.5.0)\n",
            "Requirement already satisfied: ipython-genutils in /usr/local/lib/python3.7/dist-packages (from traitlets>=4.3.2->pydeck>=0.1.dev5->streamlit) (0.2.0)\n",
            "Requirement already satisfied: widgetsnbextension~=3.5.0 in /usr/local/lib/python3.7/dist-packages (from ipywidgets>=7.0.0->pydeck>=0.1.dev5->streamlit) (3.5.1)\n",
            "Requirement already satisfied: nbformat>=4.2.0 in /usr/local/lib/python3.7/dist-packages (from ipywidgets>=7.0.0->pydeck>=0.1.dev5->streamlit) (5.1.2)\n",
            "Requirement already satisfied: jupyterlab-widgets>=1.0.0; python_version >= \"3.6\" in /usr/local/lib/python3.7/dist-packages (from ipywidgets>=7.0.0->pydeck>=0.1.dev5->streamlit) (1.0.0)\n",
            "Requirement already satisfied: MarkupSafe>=0.23 in /usr/local/lib/python3.7/dist-packages (from jinja2>=2.10.1->pydeck>=0.1.dev5->streamlit) (1.1.1)\n",
            "Collecting smmap<4,>=3.0.1\n",
            "  Downloading https://files.pythonhosted.org/packages/d5/1e/6130925131f639b2acde0f7f18b73e33ce082ff2d90783c436b52040af5a/smmap-3.0.5-py2.py3-none-any.whl\n",
            "Requirement already satisfied: jupyter-core>=4.6.0 in /usr/local/lib/python3.7/dist-packages (from jupyter-client->ipykernel>=5.1.2; python_version >= \"3.4\"->pydeck>=0.1.dev5->streamlit) (4.7.1)\n",
            "Requirement already satisfied: pyzmq>=13 in /usr/local/lib/python3.7/dist-packages (from jupyter-client->ipykernel>=5.1.2; python_version >= \"3.4\"->pydeck>=0.1.dev5->streamlit) (22.0.3)\n",
            "Requirement already satisfied: pygments in /usr/local/lib/python3.7/dist-packages (from ipython>=5.0.0->ipykernel>=5.1.2; python_version >= \"3.4\"->pydeck>=0.1.dev5->streamlit) (2.6.1)\n",
            "Requirement already satisfied: simplegeneric>0.8 in /usr/local/lib/python3.7/dist-packages (from ipython>=5.0.0->ipykernel>=5.1.2; python_version >= \"3.4\"->pydeck>=0.1.dev5->streamlit) (0.8.1)\n",
            "Requirement already satisfied: pexpect; sys_platform != \"win32\" in /usr/local/lib/python3.7/dist-packages (from ipython>=5.0.0->ipykernel>=5.1.2; python_version >= \"3.4\"->pydeck>=0.1.dev5->streamlit) (4.8.0)\n",
            "Requirement already satisfied: pickleshare in /usr/local/lib/python3.7/dist-packages (from ipython>=5.0.0->ipykernel>=5.1.2; python_version >= \"3.4\"->pydeck>=0.1.dev5->streamlit) (0.7.5)\n",
            "Requirement already satisfied: prompt-toolkit<2.0.0,>=1.0.4 in /usr/local/lib/python3.7/dist-packages (from ipython>=5.0.0->ipykernel>=5.1.2; python_version >= \"3.4\"->pydeck>=0.1.dev5->streamlit) (1.0.18)\n",
            "Requirement already satisfied: notebook>=4.4.1 in /usr/local/lib/python3.7/dist-packages (from widgetsnbextension~=3.5.0->ipywidgets>=7.0.0->pydeck>=0.1.dev5->streamlit) (5.3.1)\n",
            "Requirement already satisfied: ptyprocess>=0.5 in /usr/local/lib/python3.7/dist-packages (from pexpect; sys_platform != \"win32\"->ipython>=5.0.0->ipykernel>=5.1.2; python_version >= \"3.4\"->pydeck>=0.1.dev5->streamlit) (0.7.0)\n",
            "Requirement already satisfied: wcwidth in /usr/local/lib/python3.7/dist-packages (from prompt-toolkit<2.0.0,>=1.0.4->ipython>=5.0.0->ipykernel>=5.1.2; python_version >= \"3.4\"->pydeck>=0.1.dev5->streamlit) (0.2.5)\n",
            "Requirement already satisfied: Send2Trash in /usr/local/lib/python3.7/dist-packages (from notebook>=4.4.1->widgetsnbextension~=3.5.0->ipywidgets>=7.0.0->pydeck>=0.1.dev5->streamlit) (1.5.0)\n",
            "Requirement already satisfied: nbconvert in /usr/local/lib/python3.7/dist-packages (from notebook>=4.4.1->widgetsnbextension~=3.5.0->ipywidgets>=7.0.0->pydeck>=0.1.dev5->streamlit) (5.6.1)\n",
            "Requirement already satisfied: terminado>=0.8.1 in /usr/local/lib/python3.7/dist-packages (from notebook>=4.4.1->widgetsnbextension~=3.5.0->ipywidgets>=7.0.0->pydeck>=0.1.dev5->streamlit) (0.9.2)\n",
            "Requirement already satisfied: mistune<2,>=0.8.1 in /usr/local/lib/python3.7/dist-packages (from nbconvert->notebook>=4.4.1->widgetsnbextension~=3.5.0->ipywidgets>=7.0.0->pydeck>=0.1.dev5->streamlit) (0.8.4)\n",
            "Requirement already satisfied: pandocfilters>=1.4.1 in /usr/local/lib/python3.7/dist-packages (from nbconvert->notebook>=4.4.1->widgetsnbextension~=3.5.0->ipywidgets>=7.0.0->pydeck>=0.1.dev5->streamlit) (1.4.3)\n",
            "Requirement already satisfied: testpath in /usr/local/lib/python3.7/dist-packages (from nbconvert->notebook>=4.4.1->widgetsnbextension~=3.5.0->ipywidgets>=7.0.0->pydeck>=0.1.dev5->streamlit) (0.4.4)\n",
            "Requirement already satisfied: defusedxml in /usr/local/lib/python3.7/dist-packages (from nbconvert->notebook>=4.4.1->widgetsnbextension~=3.5.0->ipywidgets>=7.0.0->pydeck>=0.1.dev5->streamlit) (0.6.0)\n",
            "Requirement already satisfied: bleach in /usr/local/lib/python3.7/dist-packages (from nbconvert->notebook>=4.4.1->widgetsnbextension~=3.5.0->ipywidgets>=7.0.0->pydeck>=0.1.dev5->streamlit) (3.3.0)\n",
            "Requirement already satisfied: webencodings in /usr/local/lib/python3.7/dist-packages (from bleach->nbconvert->notebook>=4.4.1->widgetsnbextension~=3.5.0->ipywidgets>=7.0.0->pydeck>=0.1.dev5->streamlit) (0.5.1)\n",
            "Building wheels for collected packages: blinker\n",
            "  Building wheel for blinker (setup.py) ... \u001b[?25l\u001b[?25hdone\n",
            "  Created wheel for blinker: filename=blinker-1.4-cp37-none-any.whl size=13448 sha256=540392d6bb84a3795cb561cb80f48653859a061d2f9784068cc03df969300342\n",
            "  Stored in directory: /root/.cache/pip/wheels/92/a0/00/8690a57883956a301d91cf4ec999cc0b258b01e3f548f86e89\n",
            "Successfully built blinker\n",
            "\u001b[31mERROR: google-colab 1.0.0 has requirement ipykernel~=4.10, but you'll have ipykernel 5.5.0 which is incompatible.\u001b[0m\n",
            "Installing collected packages: blinker, ipykernel, pydeck, validators, watchdog, smmap, gitdb, gitpython, base58, streamlit\n",
            "  Found existing installation: ipykernel 4.10.1\n",
            "    Uninstalling ipykernel-4.10.1:\n",
            "      Successfully uninstalled ipykernel-4.10.1\n",
            "Successfully installed base58-2.1.0 blinker-1.4 gitdb-4.0.5 gitpython-3.1.13 ipykernel-5.5.0 pydeck-0.6.1 smmap-3.0.5 streamlit-0.77.0 validators-0.18.2 watchdog-2.0.2\n"
          ],
          "name": "stdout"
        },
        {
          "output_type": "display_data",
          "data": {
            "application/vnd.colab-display-data+json": {
              "pip_warning": {
                "packages": [
                  "ipykernel"
                ]
              }
            }
          },
          "metadata": {
            "tags": []
          }
        }
      ]
    },
    {
      "cell_type": "code",
      "metadata": {
        "colab": {
          "base_uri": "https://localhost:8080/"
        },
        "id": "lZd3Wdi09XrZ",
        "outputId": "b968717b-60c4-44dc-ce97-d00512a135b5"
      },
      "source": [
        "#Install ngrok \r\n",
        "!wget https://bin.equinox.io/c/4VmDzA7iaHb/ngrok-stable-linux-amd64.zip\r\n",
        "!unzip -qq ngrok-stable-linux-amd64.zip"
      ],
      "execution_count": null,
      "outputs": [
        {
          "output_type": "stream",
          "text": [
            "--2021-02-25 00:25:08--  https://bin.equinox.io/c/4VmDzA7iaHb/ngrok-stable-linux-amd64.zip\n",
            "Resolving bin.equinox.io (bin.equinox.io)... 52.23.32.39, 54.85.41.146, 3.209.27.98, ...\n",
            "Connecting to bin.equinox.io (bin.equinox.io)|52.23.32.39|:443... connected.\n",
            "HTTP request sent, awaiting response... 200 OK\n",
            "Length: 13773305 (13M) [application/octet-stream]\n",
            "Saving to: ‘ngrok-stable-linux-amd64.zip’\n",
            "\n",
            "ngrok-stable-linux- 100%[===================>]  13.13M  35.7MB/s    in 0.4s    \n",
            "\n",
            "2021-02-25 00:25:09 (35.7 MB/s) - ‘ngrok-stable-linux-amd64.zip’ saved [13773305/13773305]\n",
            "\n"
          ],
          "name": "stdout"
        }
      ]
    },
    {
      "cell_type": "markdown",
      "metadata": {
        "id": "hdH8a3yD-yBA"
      },
      "source": [
        "### Test ngrok host "
      ]
    },
    {
      "cell_type": "markdown",
      "metadata": {
        "id": "RRVIauz6YPLk"
      },
      "source": [
        "ngrok'ing streamlit into colab from https://gist.github.com/tuffacton/da5a9b42c0a2e9e355353689f93c84b3"
      ]
    },
    {
      "cell_type": "code",
      "metadata": {
        "id": "wMzer11k94vN"
      },
      "source": [
        "#get_ipython().system_raw('./ngrok http 8501 &')\r\n",
        "#! curl -s http://localhost:4040/api/tunnels | python3 -c \\\r\n",
        "#    \"import sys, json; print(json.load(sys.stdin)['tunnels'][0]['public_url'])\""
      ],
      "execution_count": null,
      "outputs": []
    },
    {
      "cell_type": "markdown",
      "metadata": {
        "id": "2UiVSeRf_wPX"
      },
      "source": [
        "# Our Streamlit App"
      ]
    },
    {
      "cell_type": "code",
      "metadata": {
        "id": "PTM5IVX__zPg",
        "colab": {
          "base_uri": "https://localhost:8080/"
        },
        "outputId": "ffaf9130-cd74-42b6-a0dc-c5eac3b64881"
      },
      "source": [
        "#Make sure we're in appropriate directory \r\n",
        "%cd /content/PytorchNeuralStyleStreamlit/\r\n",
        "\r\n",
        "#Basically here we just write a copy of our streamlit code to a python file so we can run it. \r\n",
        "#Streamlit called with console command \"streamlit run your_streamlit_file.py\", not from \"python your_streamlit_file.py\", hence this step\r\n",
        "#And one of main points of this colab is the streamlit, so we want to make it editable in colab, hence we place it here rather than git clone it \r\n",
        "#Can edit streamlit app below. Try changing the title name in st.title for example, just edit it below  \r\n",
        "\r\n",
        "my_st_code = '''#Build Stramlit App\r\n",
        "import streamlit as st\r\n",
        "from PIL import Image\r\n",
        "import os\r\n",
        "#from neural_style import neural_style\r\n",
        "#from neural_style import * #check_paths, train, stylize, stylize_onnx_caffe2, main\r\n",
        "\r\n",
        "st.title(\"Pytorch Neural Style Transfer On Streamlit\")\r\n",
        "\r\n",
        "#st.write('Available Style Images:')\r\n",
        "\r\n",
        "candy_image = Image.open('images/style-images/candy.jpg')\r\n",
        "mosaic_image = Image.open('images/style-images/mosaic.jpg')\r\n",
        "rain_princess_image = Image.open('images/style-images/rain-princess.jpg')\r\n",
        "udnie_image = Image.open('images/style-images/udnie.jpg')\r\n",
        "\r\n",
        "#display the reference images\r\n",
        "st.write('Style Reference Images:')\r\n",
        "col1, col2, col3, col4 = st.beta_columns(4)\r\n",
        "with col1:\r\n",
        "    st.header(\"Candy\")\r\n",
        "    st.image(candy_image, use_column_width=True)\r\n",
        "with col2:\r\n",
        "    st.header(\"Mosaic\")\r\n",
        "    st.image(mosaic_image, use_column_width=True)\r\n",
        "with col3:\r\n",
        "    st.header(\"Rain Princess\")\r\n",
        "    st.image(rain_princess_image, use_column_width=True)\r\n",
        "with col4:\r\n",
        "    st.header(\"Udnie\")\r\n",
        "    st.image(udnie_image, use_column_width=True)\r\n",
        "\r\n",
        "#st.image(candy_image, caption='Candy Style Source Image', use_column_width=True)\r\n",
        "\r\n",
        "#pick model\r\n",
        "styleOption = st.selectbox( 'Pick your model style', ('Candy', 'Mosaic', 'Rain_Princess', 'Udnie'))\r\n",
        "st.write('You selected:', styleOption)\r\n",
        "\r\n",
        "upload_img = st.file_uploader(\"Upload your image here (png or jpg)\", type=['png', 'jpg'])\r\n",
        "\r\n",
        "if upload_img is not None:\r\n",
        "    input_image = Image.open( upload_img )\r\n",
        "    #input_image = Image.open(user_image.read(), encoding=\"utf-8\")\r\n",
        "\r\n",
        "    #Want to replace input image so as not to take up space with each new one \r\n",
        "    input_image.save(\"images/content-images/userinput.png\")\r\n",
        "    st.image(input_image, caption='Your Image', use_column_width=True)\r\n",
        "\r\n",
        "    #st.write( 'image name: ', user_image.name)\r\n",
        "    #print(user_image.name)\r\n",
        "\r\n",
        "    #input_img_name = str(user_image.name).replace(' ', '-')\r\n",
        "    #rename file to that of input_img_name: \r\n",
        "    #os.system('mv images/content-images/' + str(user_image.name) + ' images/content-images/' + input_img_name )\r\n",
        "\r\n",
        "    #print(input_img_name)\r\n",
        "\r\n",
        "    model_path = 'saved_models/' + str(styleOption) + '.pth'\r\n",
        "    #save one unique image per styleOption, doesn't clog up too much but also doesn't erase some recents\r\n",
        "    output_image_path = 'images/output-images/output-userimage-' + str(styleOption) + '.png'\r\n",
        "\r\n",
        "    os_cmd = \"python neural_style/neural_style.py eval --content-image  images/content-images/userinput.png --model \" + model_path + \" --output-image \" + output_image_path + \" --cuda 0\"\r\n",
        "\r\n",
        "    if st.button('Create Style Transfer Image'):\r\n",
        "        os.system(os_cmd)\r\n",
        "        st.image(output_image_path, caption='Output', use_column_width=True)\r\n",
        "    else:\r\n",
        "        st.write('click button to run model')\r\n",
        "\r\n",
        "#accept_multiple_files=True -> something could be added #restrict file type to png and jpg. On fully deployed webapp dont want a user uploading erroneous or malicious files, hence this restriction\r\n",
        "'''\r\n",
        "\r\n",
        "my_st_file = open('streamlit_main.py', 'w')\r\n",
        "my_st_file.write(my_st_code)\r\n",
        "my_st_file.close()"
      ],
      "execution_count": 15,
      "outputs": [
        {
          "output_type": "stream",
          "text": [
            "/content/PytorchNeuralStyleStreamlit\n"
          ],
          "name": "stdout"
        }
      ]
    },
    {
      "cell_type": "markdown",
      "metadata": {
        "id": "NVHp41KGlI5o"
      },
      "source": [
        "<h3>RUN this to get an ngrok tunneled link (can be finnicky, try rerunning if fails first time). IF you get an error thats more than 3 lines go to Runtime in the toolbar and click Restart Runtime, then try running this again until you get a successful link, then run the cell below. WONT be functional until you also run the streamlit code cell below it! </h3>\r\n",
        "Also if you hit your daily usage limit you may have to setup an ngrok account, so be conservative in your usage."
      ]
    },
    {
      "cell_type": "code",
      "metadata": {
        "id": "6HSLDTANLBpU"
      },
      "source": [
        "get_ipython().system_raw('./ngrok http 8501 &')\r\n",
        "! curl -s http://localhost:4040/api/tunnels | python3 -c \\\r\n",
        "    \"import sys, json; print(json.load(sys.stdin)['tunnels'][0]['public_url'])\""
      ],
      "execution_count": null,
      "outputs": []
    },
    {
      "cell_type": "code",
      "metadata": {
        "id": "zpvb-2IHK_UE"
      },
      "source": [
        "%cd /content/PytorchNeuralStyleStreamlit\r\n",
        "!streamlit run /content/PytorchNeuralStyleStreamlit/streamlit_main.py"
      ],
      "execution_count": null,
      "outputs": []
    },
    {
      "cell_type": "markdown",
      "metadata": {
        "id": "TLYj-R5ElmYL"
      },
      "source": [
        "<h3> ^^^ONCE you ran this click on the ngrok.io link! (not these links) </h3>\r\n",
        "\r\n",
        "<h3>If you are getting an error outputting the image in streamlit try searching here. If the style transfer was successful the new image should be in this folder: /content/PytorchNeuralStyleStreamlit/images/output-images and it will be called 'output-userimage-' plus whatever style you chose, so if you chose the default candy style it will be output-userimage-Candy.png</h3>"
      ]
    },
    {
      "cell_type": "markdown",
      "metadata": {
        "id": "zaBNCil57qXw"
      },
      "source": [
        "# Run Code In Console "
      ]
    },
    {
      "cell_type": "markdown",
      "metadata": {
        "id": "kBkTzyeh8v7J"
      },
      "source": [
        "This is if you want to run the style transfer algorithm without the streamlit UI. Just upload your photo manually as directed and write the file name as directed"
      ]
    },
    {
      "cell_type": "markdown",
      "metadata": {
        "id": "inlPjOpudBi1"
      },
      "source": [
        "<h3> UPLOAD your custom image to the directory /content/PytorchNeuralStyleStreamlit/images/content-images and enter the file name (including the .jpg or .png filetype!) below!! </h3>"
      ]
    },
    {
      "cell_type": "code",
      "metadata": {
        "id": "tdGdGjh2Y_yC",
        "colab": {
          "base_uri": "https://localhost:8080/"
        },
        "outputId": "01146885-e8d6-481d-e51b-87815b9e0cdc"
      },
      "source": [
        "user_image_filename = '' #@param {type:\"string\"}\r\n",
        "\r\n",
        "import os\r\n",
        "userinput_path = \"/content/PytorchNeuralStyleStreamlit/images/content-images/\"+ user_image_filename \r\n",
        "\r\n",
        "#Change uploaded filename to userimage.png\r\n",
        "#use os.system method to join the strings before full console evalutaion\r\n",
        "os.system(\"mv \" + userinput_path + \" \" + \"/content/PytorchNeuralStyleStreamlit/images/content-images/userimage.png\")"
      ],
      "execution_count": 12,
      "outputs": [
        {
          "output_type": "execute_result",
          "data": {
            "text/plain": [
              "0"
            ]
          },
          "metadata": {
            "tags": []
          },
          "execution_count": 12
        }
      ]
    },
    {
      "cell_type": "markdown",
      "metadata": {
        "id": "FNXNyvbH2lB4"
      },
      "source": [
        "<h3> RUN cell below to create your styled image. The default style is Mosaic. To choose a different model simply go to the --model argument and change 'mosaic.pth' to one of the other models in the folder /content/PytorchNeuralStyleStreamlit/saved_models  </h4> "
      ]
    },
    {
      "cell_type": "code",
      "metadata": {
        "id": "mTJpVqvm14ih"
      },
      "source": [
        "!python neural_style/neural_style.py eval --content-image /content/PytorchNeuralStyleStreamlit/images/content-images/userimage.png --model /content/PytorchNeuralStyleStreamlit/saved_models/mosaic.pth --output-image /content/PytorchNeuralStyleStreamlit/images/output-images/output-userimage.png --cuda 0"
      ],
      "execution_count": 14,
      "outputs": []
    },
    {
      "cell_type": "markdown",
      "metadata": {
        "id": "Z3RFZKAz9men"
      },
      "source": [
        "Your painted photo should be at /content/PytorchNeuralStyleStreamlit/images/output-images/output-userimage.png\r\n",
        "\r\n"
      ]
    },
    {
      "cell_type": "markdown",
      "metadata": {
        "id": "-PAgh3T4Yc13"
      },
      "source": [
        "# Pytorch Neural Style Transfer Example From Source "
      ]
    },
    {
      "cell_type": "markdown",
      "metadata": {
        "id": "pfR5xMjGZgNm"
      },
      "source": [
        "Here we clone the clone/repo from its original directory. This downloads some unecessary code (the other examples), which also complicattes the file structure a bit. In this section we run it using the directory structure of the original repo. \r\n",
        "\r\n",
        "Run the Neural Style transfer example using code here "
      ]
    },
    {
      "cell_type": "code",
      "metadata": {
        "colab": {
          "base_uri": "https://localhost:8080/"
        },
        "id": "OgjhFIKEldLe",
        "outputId": "5f588f00-cedc-4b93-ff96-ca0c65b1997c"
      },
      "source": [
        "cd /content/\r\n",
        "!git clone https://github.com/pytorch/examples"
      ],
      "execution_count": null,
      "outputs": [
        {
          "output_type": "stream",
          "text": [
            "fatal: destination path 'examples' already exists and is not an empty directory.\n"
          ],
          "name": "stdout"
        }
      ]
    },
    {
      "cell_type": "code",
      "metadata": {
        "colab": {
          "base_uri": "https://localhost:8080/"
        },
        "id": "EmWg74Ktlx2o",
        "outputId": "1f79ffc4-888f-4e68-8bfc-c393f0c8d2cc"
      },
      "source": [
        "cd /content/examples/fast_neural_style"
      ],
      "execution_count": null,
      "outputs": [
        {
          "output_type": "stream",
          "text": [
            "/content/examples/fast_neural_style\n"
          ],
          "name": "stdout"
        }
      ]
    },
    {
      "cell_type": "code",
      "metadata": {
        "colab": {
          "base_uri": "https://localhost:8080/"
        },
        "id": "kwG4Ql-EmP1S",
        "outputId": "38293e69-bb60-43de-a4f2-6d0c6c1ef081"
      },
      "source": [
        "!python download_saved_models.py #downloads saved style tranfer model, can cache these"
      ],
      "execution_count": null,
      "outputs": [
        {
          "output_type": "stream",
          "text": [
            "100% 23.9M/23.9M [00:00<00:00, 46.1MB/s]\n"
          ],
          "name": "stdout"
        }
      ]
    },
    {
      "cell_type": "markdown",
      "metadata": {
        "id": "Gdm-SLf_jg4N"
      },
      "source": [
        "<h3> UPLOAD your custom image to the directory /content/examples/fast_neural_style/images/content-images/ and enter the file name (including the .jpg or .png filetype!) below!! </h3>"
      ]
    },
    {
      "cell_type": "code",
      "metadata": {
        "id": "G-Vlq6cwjJdh"
      },
      "source": [
        "user_image_filename = '' #@param {type:\"string\"}\r\n",
        "#NO SPACES"
      ],
      "execution_count": null,
      "outputs": []
    },
    {
      "cell_type": "code",
      "metadata": {
        "colab": {
          "base_uri": "https://localhost:8080/"
        },
        "id": "_1kLuvcOjJdk",
        "outputId": "86d7ec08-895c-4d82-ecf9-e899f6f6f217"
      },
      "source": [
        "import os\r\n",
        "userinput_path = \"/content/examples/fast_neural_style/images/content-images/\"+ user_image_filename \r\n",
        "\r\n",
        "#Change uploaded filename to userimage.png\r\n",
        "#use os.system method to join the strings before full evalutaion\r\n",
        "os.system(\"mv \" + userinput_path + \" \" + \"/content/examples/fast_neural_style/images/content-images/userimage.png\")"
      ],
      "execution_count": null,
      "outputs": [
        {
          "output_type": "execute_result",
          "data": {
            "text/plain": [
              "0"
            ]
          },
          "metadata": {
            "tags": []
          },
          "execution_count": 19
        }
      ]
    },
    {
      "cell_type": "code",
      "metadata": {
        "id": "Aj9OVrcHl5mn"
      },
      "source": [
        "#python neural_style/neural_style.py eval --content-image </path/to/content/image> --model </path/to/saved/model> --output-image </path/to/output/image> --cuda 0 #format\r\n",
        "!python neural_style/neural_style.py eval --content-image  /content/examples/fast_neural_style/images/content-images/userimage.png --model /content/examples/fast_neural_style/saved_models/mosaic.pth --output-image /content/examples/fast_neural_style/images/output-images/output-userimage.png --cuda 0"
      ],
      "execution_count": null,
      "outputs": []
    },
    {
      "cell_type": "markdown",
      "metadata": {
        "id": "Bw8HRDGC91zc"
      },
      "source": [
        "Your painted photo should be at /content/examples/fast_neural_style/images/output-images/output-userimage.png"
      ]
    }
  ]
}
